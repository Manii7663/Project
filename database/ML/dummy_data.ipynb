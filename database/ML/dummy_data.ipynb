{
 "cells": [
  {
   "cell_type": "code",
   "execution_count": 20,
   "metadata": {},
   "outputs": [],
   "source": [
    "import pandas as pd\n",
    "import numpy as np"
   ]
  },
  {
   "cell_type": "code",
   "execution_count": 24,
   "metadata": {},
   "outputs": [],
   "source": [
    "np.random.seed(0)\n",
    "\n",
    "num_samples = 200\n",
    "training_names = [\"Python\", \"JavaScript\", \"HTML\", \"CSS\", \"React\", \"Angular\", \"Vue.js\", \"Node.js\", \"Django\", \"Flask\",\n",
    "    \"Java\", \"Kotlin\", \"Swift\", \"Objective-C\", \"C#\", \".NET\", \"PHP\", \"Ruby\", \"SQL\", \"NoSQL\",\n",
    "    \"MongoDB\", \"MySQL\", \"PostgreSQL\", \"Git\", \"Docker\", \"Kubernetes\", \"AWS\", \"Azure\", \"Google Cloud Platform\",\n",
    "    \"RESTful API\", \"GraphQL\", \"CI/CD\", \"Agile Methodologies\", \"Scrum\", \"Test-Driven Development\",\n",
    "    \"Behavior-Driven Development\", \"DevOps\", \"Continuous Integration\", \"Continuous Deployment\", \"Microservices\",\n",
    "    \"Containerization\", \"Machine Learning\", \"Artificial Intelligence\", \"Data Science\", \"Data Analysis\",\n",
    "    \"Data Visualization\", \"Statistical Analysis\", \"Cybersecurity\", \"Network Security\", \"Penetration Testing\",\n",
    "    \"Cryptography\", \"Information Security\", \"UI/UX Design\", \"Wireframing\", \"Prototyping\", \"User Research\",\n",
    "    \"Interaction Design\", \"Responsive Design\", \"Accessibility\", \"Product Management\", \"Agile Product Management\",\n",
    "    \"Requirements Analysis\", \"User Stories\", \"Business Analysis\", \"Technical Writing\", \"Documentation\",\n",
    "    \"Support\", \"Troubleshooting\", \"Problem Solving\", \"Communication\", \"Collaboration\", \"Leadership\",'Data Science Basics', 'Python for Data Science', 'Machine Learning Fundamentals', 'Deep Learning Concepts', 'Big Data Analytics']\n"
   ]
  },
  {
   "cell_type": "code",
   "execution_count": 25,
   "metadata": {},
   "outputs": [
    {
     "data": {
      "text/plain": [
       "77"
      ]
     },
     "execution_count": 25,
     "metadata": {},
     "output_type": "execute_result"
    }
   ],
   "source": [
    "len(training_names)"
   ]
  },
  {
   "cell_type": "markdown",
   "metadata": {},
   "source": [
    "# Data Generation"
   ]
  },
  {
   "cell_type": "code",
   "execution_count": 26,
   "metadata": {},
   "outputs": [
    {
     "name": "stdout",
     "output_type": "stream",
     "text": [
      "Empty DataFrame\n",
      "Columns: [Name, Difficulty_Level, Trainers, Trainer_Experience, Total_Hours, Total_Trainee]\n",
      "Index: []\n"
     ]
    }
   ],
   "source": [
    "data = {\n",
    "    'Name': [],\n",
    "    'Difficulty_Level': [],\n",
    "    'Trainers': [],\n",
    "    'Trainer_Experience': [],\n",
    "    'Total_Hours': [],\n",
    "    'Total_Trainee': []\n",
    "}\n",
    "\n",
    "# Create DataFrame\n",
    "df = pd.DataFrame(data)\n",
    "\n",
    "print(df)"
   ]
  },
  {
   "cell_type": "markdown",
   "metadata": {},
   "source": [
    "## Basic  "
   ]
  },
  {
   "cell_type": "code",
   "execution_count": 28,
   "metadata": {},
   "outputs": [
    {
     "name": "stdout",
     "output_type": "stream",
     "text": [
      "                              Name Difficulty_Level  Trainers  \\\n",
      "0                          Node.js            basic         2   \n",
      "1                     UI/UX Design            basic         1   \n",
      "2                      RESTful API            basic         2   \n",
      "3                           Python            basic         1   \n",
      "4    Machine Learning Fundamentals            basic         1   \n",
      "..                             ...              ...       ...   \n",
      "195                     PostgreSQL            basic         1   \n",
      "196              Technical Writing            basic         1   \n",
      "197                          CI/CD            basic         2   \n",
      "198                           .NET            basic         1   \n",
      "199           Information Security            basic         1   \n",
      "\n",
      "     Trainer_Experience  Total_Hours  Total_Trainee  \n",
      "0                     3            4             54  \n",
      "1                     2            5             18  \n",
      "2                     3            4             54  \n",
      "3                     2            4             36  \n",
      "4                     3            6             27  \n",
      "..                  ...          ...            ...  \n",
      "195                   2            4             36  \n",
      "196                   3            4             18  \n",
      "197                   1            4             54  \n",
      "198                   1            6             36  \n",
      "199                   2            4             18  \n",
      "\n",
      "[200 rows x 6 columns]\n"
     ]
    },
    {
     "name": "stderr",
     "output_type": "stream",
     "text": [
      "<ipython-input-28-7ccbc5a2fb72>:17: FutureWarning: The frame.append method is deprecated and will be removed from pandas in a future version. Use pandas.concat instead.\n",
      "  df = df.append(dummy_data, ignore_index=True)\n"
     ]
    }
   ],
   "source": [
    "name = np.random.choice(training_names, num_samples)\n",
    "difficulty_level = 'basic'\n",
    "trainers = np.random.randint(1, 3, num_samples)\n",
    "trainer_experience = np.random.randint(1,5, num_samples)\n",
    "total_hours=np.random.randint(4, 7, num_samples)\n",
    "total_trainee = [t *(np.random.randint(1,5)*9) for t in trainers]\n",
    "\n",
    "# Create DataFrame\n",
    "dummy_data = pd.DataFrame({\n",
    "    'Name': name,\n",
    "    'Difficulty_Level': difficulty_level,\n",
    "    'Trainers': trainers,\n",
    "    'Trainer_Experience': trainer_experience,\n",
    "    'Total_Hours':total_hours,\n",
    "    'Total_Trainee':total_trainee\n",
    "})\n",
    "df = df.append(dummy_data, ignore_index=True)\n",
    "# Display the dummy data\n",
    "print(dummy_data)\n"
   ]
  },
  {
   "cell_type": "markdown",
   "metadata": {},
   "source": [
    "## Medium"
   ]
  },
  {
   "cell_type": "code",
   "execution_count": 35,
   "metadata": {},
   "outputs": [
    {
     "name": "stdout",
     "output_type": "stream",
     "text": [
      "                        Name Difficulty_Level  Trainers  Trainer_Experience  \\\n",
      "0                    Angular           medium         3                   5   \n",
      "1              Documentation           medium         1                   5   \n",
      "2    Test-Driven Development           medium         2                   3   \n",
      "3                 JavaScript           medium         1                   3   \n",
      "4                         C#           medium         3                   5   \n",
      "..                       ...              ...       ...                 ...   \n",
      "195   Deep Learning Concepts           medium         1                   5   \n",
      "196                    Flask           medium         3                   5   \n",
      "197  Python for Data Science           medium         3                   3   \n",
      "198                  GraphQL           medium         3                   5   \n",
      "199               PostgreSQL           medium         1                   4   \n",
      "\n",
      "     Total_Hours  Total_Trainee  \n",
      "0             16            180  \n",
      "1             12             20  \n",
      "2             19             80  \n",
      "3             11             80  \n",
      "4             14            180  \n",
      "..           ...            ...  \n",
      "195           19             80  \n",
      "196           11            120  \n",
      "197           12            180  \n",
      "198           17            240  \n",
      "199           15             60  \n",
      "\n",
      "[200 rows x 6 columns]\n"
     ]
    },
    {
     "name": "stderr",
     "output_type": "stream",
     "text": [
      "<ipython-input-35-b5c78c025d88>:17: FutureWarning: The frame.append method is deprecated and will be removed from pandas in a future version. Use pandas.concat instead.\n",
      "  df = df.append(dummy_data, ignore_index=True)\n"
     ]
    }
   ],
   "source": [
    "name = np.random.choice(training_names, num_samples)\n",
    "difficulty_level = 'medium'\n",
    "trainers = np.random.randint(1, 4, num_samples)\n",
    "trainer_experience = np.random.randint(3,7, num_samples)\n",
    "total_hours=np.random.randint(10, 20, num_samples)\n",
    "total_trainee = [t *(np.random.randint(1,5))*20 for t in trainers]\n",
    "\n",
    "# Create DataFrame\n",
    "dummy_data = pd.DataFrame({\n",
    "    'Name': name,\n",
    "    'Difficulty_Level': difficulty_level,\n",
    "    'Trainers': trainers,\n",
    "    'Trainer_Experience': trainer_experience,\n",
    "    'Total_Hours':total_hours,\n",
    "    'Total_Trainee':total_trainee\n",
    "})\n",
    "df = df.append(dummy_data, ignore_index=True)\n",
    "# Display the dummy data\n",
    "print(dummy_data)\n"
   ]
  },
  {
   "cell_type": "markdown",
   "metadata": {},
   "source": [
    "## hard"
   ]
  },
  {
   "cell_type": "code",
   "execution_count": 42,
   "metadata": {},
   "outputs": [
    {
     "name": "stdout",
     "output_type": "stream",
     "text": [
      "                            Name Difficulty_Level  Trainers  \\\n",
      "0                           HTML             hard         7   \n",
      "1             Big Data Analytics             hard         5   \n",
      "2    Behavior-Driven Development             hard         5   \n",
      "3                         Python             hard         5   \n",
      "4          Requirements Analysis             hard         6   \n",
      "..                           ...              ...       ...   \n",
      "195                   Kubernetes             hard         6   \n",
      "196                  Wireframing             hard         6   \n",
      "197             Containerization             hard         5   \n",
      "198             Machine Learning             hard         6   \n",
      "199                       Python             hard         5   \n",
      "\n",
      "     Trainer_Experience  Total_Hours  Total_Trainee  \n",
      "0                     4           11            189  \n",
      "1                     3           17             90  \n",
      "2                     4           14             90  \n",
      "3                     1           18            180  \n",
      "4                     6           18            216  \n",
      "..                  ...          ...            ...  \n",
      "195                   3           19            216  \n",
      "196                   1           17            108  \n",
      "197                   6           10             45  \n",
      "198                   2           10            108  \n",
      "199                   1           12             90  \n",
      "\n",
      "[200 rows x 6 columns]\n"
     ]
    },
    {
     "name": "stderr",
     "output_type": "stream",
     "text": [
      "<ipython-input-42-4be197197dee>:17: FutureWarning: The frame.append method is deprecated and will be removed from pandas in a future version. Use pandas.concat instead.\n",
      "  df = df.append(dummy_data, ignore_index=True)\n"
     ]
    }
   ],
   "source": [
    "name = np.random.choice(training_names, num_samples)\n",
    "difficulty_level = 'hard'\n",
    "trainers = np.random.randint(5, 8, num_samples)\n",
    "trainer_experience = np.random.randint(1,7, num_samples)\n",
    "total_hours=np.random.randint(10, 20, num_samples)\n",
    "total_trainee = [t *(np.random.randint(1,5)*9) for t in trainers]\n",
    "\n",
    "# Create DataFrame\n",
    "dummy_data = pd.DataFrame({\n",
    "    'Name': name,\n",
    "    'Difficulty_Level': difficulty_level,\n",
    "    'Trainers': trainers,\n",
    "    'Trainer_Experience': trainer_experience,\n",
    "    'Total_Hours':total_hours,\n",
    "    'Total_Trainee':total_trainee\n",
    "})\n",
    "df = df.append(dummy_data, ignore_index=True)\n",
    "# Display the dummy data\n",
    "print(dummy_data)\n"
   ]
  },
  {
   "cell_type": "code",
   "execution_count": 43,
   "metadata": {},
   "outputs": [
    {
     "data": {
      "text/plain": [
       "1400"
      ]
     },
     "execution_count": 43,
     "metadata": {},
     "output_type": "execute_result"
    }
   ],
   "source": [
    "len(df)"
   ]
  },
  {
   "cell_type": "code",
   "execution_count": 44,
   "metadata": {},
   "outputs": [],
   "source": [
    "df.to_csv(\"ml_data.csv\", index=False)\n"
   ]
  },
  {
   "cell_type": "code",
   "execution_count": 39,
   "metadata": {},
   "outputs": [
    {
     "data": {
      "text/html": [
       "<div>\n",
       "<style scoped>\n",
       "    .dataframe tbody tr th:only-of-type {\n",
       "        vertical-align: middle;\n",
       "    }\n",
       "\n",
       "    .dataframe tbody tr th {\n",
       "        vertical-align: top;\n",
       "    }\n",
       "\n",
       "    .dataframe thead th {\n",
       "        text-align: right;\n",
       "    }\n",
       "</style>\n",
       "<table border=\"1\" class=\"dataframe\">\n",
       "  <thead>\n",
       "    <tr style=\"text-align: right;\">\n",
       "      <th></th>\n",
       "      <th>Name</th>\n",
       "      <th>Difficulty_Level</th>\n",
       "      <th>Trainers</th>\n",
       "      <th>Trainer_Experience</th>\n",
       "      <th>Total_Hours</th>\n",
       "      <th>Total_Trainee</th>\n",
       "    </tr>\n",
       "  </thead>\n",
       "  <tbody>\n",
       "    <tr>\n",
       "      <th>900</th>\n",
       "      <td>Flask</td>\n",
       "      <td>medium</td>\n",
       "      <td>1.0</td>\n",
       "      <td>3.0</td>\n",
       "      <td>19.0</td>\n",
       "      <td>60.0</td>\n",
       "    </tr>\n",
       "    <tr>\n",
       "      <th>901</th>\n",
       "      <td>Data Analysis</td>\n",
       "      <td>medium</td>\n",
       "      <td>1.0</td>\n",
       "      <td>3.0</td>\n",
       "      <td>13.0</td>\n",
       "      <td>80.0</td>\n",
       "    </tr>\n",
       "    <tr>\n",
       "      <th>902</th>\n",
       "      <td>Angular</td>\n",
       "      <td>medium</td>\n",
       "      <td>2.0</td>\n",
       "      <td>4.0</td>\n",
       "      <td>15.0</td>\n",
       "      <td>40.0</td>\n",
       "    </tr>\n",
       "    <tr>\n",
       "      <th>903</th>\n",
       "      <td>Flask</td>\n",
       "      <td>medium</td>\n",
       "      <td>3.0</td>\n",
       "      <td>4.0</td>\n",
       "      <td>15.0</td>\n",
       "      <td>120.0</td>\n",
       "    </tr>\n",
       "    <tr>\n",
       "      <th>904</th>\n",
       "      <td>Documentation</td>\n",
       "      <td>medium</td>\n",
       "      <td>1.0</td>\n",
       "      <td>5.0</td>\n",
       "      <td>14.0</td>\n",
       "      <td>40.0</td>\n",
       "    </tr>\n",
       "    <tr>\n",
       "      <th>...</th>\n",
       "      <td>...</td>\n",
       "      <td>...</td>\n",
       "      <td>...</td>\n",
       "      <td>...</td>\n",
       "      <td>...</td>\n",
       "      <td>...</td>\n",
       "    </tr>\n",
       "    <tr>\n",
       "      <th>995</th>\n",
       "      <td>Deep Learning Concepts</td>\n",
       "      <td>medium</td>\n",
       "      <td>1.0</td>\n",
       "      <td>5.0</td>\n",
       "      <td>19.0</td>\n",
       "      <td>80.0</td>\n",
       "    </tr>\n",
       "    <tr>\n",
       "      <th>996</th>\n",
       "      <td>Flask</td>\n",
       "      <td>medium</td>\n",
       "      <td>3.0</td>\n",
       "      <td>5.0</td>\n",
       "      <td>11.0</td>\n",
       "      <td>120.0</td>\n",
       "    </tr>\n",
       "    <tr>\n",
       "      <th>997</th>\n",
       "      <td>Python for Data Science</td>\n",
       "      <td>medium</td>\n",
       "      <td>3.0</td>\n",
       "      <td>3.0</td>\n",
       "      <td>12.0</td>\n",
       "      <td>180.0</td>\n",
       "    </tr>\n",
       "    <tr>\n",
       "      <th>998</th>\n",
       "      <td>GraphQL</td>\n",
       "      <td>medium</td>\n",
       "      <td>3.0</td>\n",
       "      <td>5.0</td>\n",
       "      <td>17.0</td>\n",
       "      <td>240.0</td>\n",
       "    </tr>\n",
       "    <tr>\n",
       "      <th>999</th>\n",
       "      <td>PostgreSQL</td>\n",
       "      <td>medium</td>\n",
       "      <td>1.0</td>\n",
       "      <td>4.0</td>\n",
       "      <td>15.0</td>\n",
       "      <td>60.0</td>\n",
       "    </tr>\n",
       "  </tbody>\n",
       "</table>\n",
       "<p>100 rows × 6 columns</p>\n",
       "</div>"
      ],
      "text/plain": [
       "                        Name Difficulty_Level  Trainers  Trainer_Experience  \\\n",
       "900                    Flask           medium       1.0                 3.0   \n",
       "901            Data Analysis           medium       1.0                 3.0   \n",
       "902                  Angular           medium       2.0                 4.0   \n",
       "903                    Flask           medium       3.0                 4.0   \n",
       "904            Documentation           medium       1.0                 5.0   \n",
       "..                       ...              ...       ...                 ...   \n",
       "995   Deep Learning Concepts           medium       1.0                 5.0   \n",
       "996                    Flask           medium       3.0                 5.0   \n",
       "997  Python for Data Science           medium       3.0                 3.0   \n",
       "998                  GraphQL           medium       3.0                 5.0   \n",
       "999               PostgreSQL           medium       1.0                 4.0   \n",
       "\n",
       "     Total_Hours  Total_Trainee  \n",
       "900         19.0           60.0  \n",
       "901         13.0           80.0  \n",
       "902         15.0           40.0  \n",
       "903         15.0          120.0  \n",
       "904         14.0           40.0  \n",
       "..           ...            ...  \n",
       "995         19.0           80.0  \n",
       "996         11.0          120.0  \n",
       "997         12.0          180.0  \n",
       "998         17.0          240.0  \n",
       "999         15.0           60.0  \n",
       "\n",
       "[100 rows x 6 columns]"
      ]
     },
     "execution_count": 39,
     "metadata": {},
     "output_type": "execute_result"
    }
   ],
   "source": [
    "df[900:]"
   ]
  },
  {
   "cell_type": "code",
   "execution_count": null,
   "metadata": {},
   "outputs": [],
   "source": []
  }
 ],
 "metadata": {
  "kernelspec": {
   "display_name": "Python 3",
   "language": "python",
   "name": "python3"
  },
  "language_info": {
   "codemirror_mode": {
    "name": "ipython",
    "version": 3
   },
   "file_extension": ".py",
   "mimetype": "text/x-python",
   "name": "python",
   "nbconvert_exporter": "python",
   "pygments_lexer": "ipython3",
   "version": "3.8.5"
  }
 },
 "nbformat": 4,
 "nbformat_minor": 4
}
