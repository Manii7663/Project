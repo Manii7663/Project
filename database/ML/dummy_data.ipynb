{
 "cells": [
  {
   "cell_type": "code",
   "execution_count": 3,
   "metadata": {},
   "outputs": [],
   "source": [
    "import pandas as pd\n",
    "import numpy as np\n",
    "\n",
    "# Generate fake data\n",
    "np.random.seed(0)\n",
    "\n",
    "num_samples = 1000\n",
    "training_names = [\"Python\", \"JavaScript\", \"HTML\", \"CSS\", \"React\", \"Angular\", \"Vue.js\", \"Node.js\", \"Django\", \"Flask\",\n",
    "    \"Java\", \"Kotlin\", \"Swift\", \"Objective-C\", \"C#\", \".NET\", \"PHP\", \"Ruby\", \"SQL\", \"NoSQL\",\n",
    "    \"MongoDB\", \"MySQL\", \"PostgreSQL\", \"Git\", \"Docker\", \"Kubernetes\", \"AWS\", \"Azure\", \"Google Cloud Platform\",\n",
    "    \"RESTful API\", \"GraphQL\", \"CI/CD\", \"Agile Methodologies\", \"Scrum\", \"Test-Driven Development\",\n",
    "    \"Behavior-Driven Development\", \"DevOps\", \"Continuous Integration\", \"Continuous Deployment\", \"Microservices\",\n",
    "    \"Containerization\", \"Machine Learning\", \"Artificial Intelligence\", \"Data Science\", \"Data Analysis\",\n",
    "    \"Data Visualization\", \"Statistical Analysis\", \"Cybersecurity\", \"Network Security\", \"Penetration Testing\",\n",
    "    \"Cryptography\", \"Information Security\", \"UI/UX Design\", \"Wireframing\", \"Prototyping\", \"User Research\",\n",
    "    \"Interaction Design\", \"Responsive Design\", \"Accessibility\", \"Product Management\", \"Agile Product Management\",\n",
    "    \"Requirements Analysis\", \"User Stories\", \"Business Analysis\", \"Technical Writing\", \"Documentation\",\n",
    "    \"Support\", \"Troubleshooting\", \"Problem Solving\", \"Communication\", \"Collaboration\", \"Leadership\",'Data Science Basics', 'Python for Data Science', 'Machine Learning Fundamentals', 'Deep Learning Concepts', 'Big Data Analytics']\n"
   ]
  },
  {
   "cell_type": "code",
   "execution_count": 4,
   "metadata": {},
   "outputs": [
    {
     "data": {
      "text/plain": [
       "77"
      ]
     },
     "execution_count": 4,
     "metadata": {},
     "output_type": "execute_result"
    }
   ],
   "source": [
    "len(training_names)"
   ]
  },
  {
   "cell_type": "code",
   "execution_count": 14,
   "metadata": {},
   "outputs": [
    {
     "name": "stdout",
     "output_type": "stream",
     "text": [
      "            Name Difficulty_Level  Trainers  Trainer_Experience  Total_Hours  \\\n",
      "0          Swift            basic         2                   5            6   \n",
      "1          MySQL            basic         3                   4            9   \n",
      "2          MySQL           medium         4                   8            1   \n",
      "3   Cryptography             hard         2                   2            8   \n",
      "4  Accessibility           medium         4                   7            9   \n",
      "\n",
      "   Total_Trainee  \n",
      "0             20  \n",
      "1             30  \n",
      "2             40  \n",
      "3             20  \n",
      "4             40  \n"
     ]
    }
   ],
   "source": [
    "import pandas as pd\n",
    "import numpy as np\n",
    "\n",
    "\n",
    "name = np.random.choice(training_names, num_samples)\n",
    "difficulty_level = np.random.choice(['basic', 'medium', 'hard'], num_samples)\n",
    "trainers = np.random.randint(1, 6, num_samples)\n",
    "trainer_experience = np.random.randint(1, 11, num_samples)\n",
    "total_hours=np.random.randint(1, 11, num_samples)\n",
    "total_trainee = [t *10 for t in trainers]\n",
    "\n",
    "# Create DataFrame\n",
    "dummy_data = pd.DataFrame({\n",
    "    'Name': name,\n",
    "    'Difficulty_Level': difficulty_level,\n",
    "    'Trainers': trainers,\n",
    "    'Trainer_Experience': trainer_experience,\n",
    "    'Total_Hours':total_hours,\n",
    "    'Total_Trainee':total_trainee\n",
    "})\n",
    "\n",
    "# Display the dummy data\n",
    "print(dummy_data.head())\n"
   ]
  },
  {
   "cell_type": "code",
   "execution_count": 15,
   "metadata": {},
   "outputs": [
    {
     "data": {
      "text/plain": [
       "1000"
      ]
     },
     "execution_count": 15,
     "metadata": {},
     "output_type": "execute_result"
    }
   ],
   "source": [
    "len(dummy_data)"
   ]
  },
  {
   "cell_type": "code",
   "execution_count": 18,
   "metadata": {},
   "outputs": [],
   "source": [
    "dummy_data.to_csv(\"ml_data.csv\", index=False)\n"
   ]
  },
  {
   "cell_type": "code",
   "execution_count": null,
   "metadata": {},
   "outputs": [],
   "source": []
  }
 ],
 "metadata": {
  "kernelspec": {
   "display_name": "Python 3",
   "language": "python",
   "name": "python3"
  },
  "language_info": {
   "codemirror_mode": {
    "name": "ipython",
    "version": 3
   },
   "file_extension": ".py",
   "mimetype": "text/x-python",
   "name": "python",
   "nbconvert_exporter": "python",
   "pygments_lexer": "ipython3",
   "version": "3.8.5"
  }
 },
 "nbformat": 4,
 "nbformat_minor": 4
}
